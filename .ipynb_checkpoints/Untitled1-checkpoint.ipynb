{
 "cells": [
  {
   "cell_type": "code",
   "execution_count": 2,
   "metadata": {
    "collapsed": true
   },
   "outputs": [],
   "source": [
    "class Atom(object):\n",
    "    def __init__(self,num,sym,x,y,z):\n",
    "        self.num=num\n",
    "        self.center=(x,y,z)\n",
    "        self.symbol = sym\n",
    "    def __str__(self):\n",
    "        return '(%s, %s, %s, %s)'%(self.symbol,self.center[0],self.center[1],self.center[2])\n",
    "    def __repr__(self):\n",
    "        return 'Atom(%s, \"%s\", %s, %s, %s)'%(self.number,self.symbol,self.center[0],self.center[1],self.center[2])\n",
    "    def translate(self,x,y,z):\n",
    "        self.center = (self.center[0] + x,self.center[1] + y,self.center[2] + z)"
   ]
  }
 ],
 "metadata": {
  "kernelspec": {
   "display_name": "Python [Root]",
   "language": "python",
   "name": "Python [Root]"
  },
  "language_info": {
   "codemirror_mode": {
    "name": "ipython",
    "version": 2
   },
   "file_extension": ".py",
   "mimetype": "text/x-python",
   "name": "python",
   "nbconvert_exporter": "python",
   "pygments_lexer": "ipython2",
   "version": "2.7.12"
  }
 },
 "nbformat": 4,
 "nbformat_minor": 0
}
