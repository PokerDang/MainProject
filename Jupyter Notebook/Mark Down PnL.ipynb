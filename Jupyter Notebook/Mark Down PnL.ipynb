{
 "cells": [
  {
   "cell_type": "markdown",
   "metadata": {},
   "source": [
    "本程序用来提取PositionAndP&L文档中，Res(Theor)的内容"
   ]
  },
  {
   "cell_type": "code",
   "execution_count": null,
   "metadata": {
    "collapsed": false
   },
   "outputs": [],
   "source": [
    "import pandas as pd\n",
    "from pandas import Series,DataFrame\n",
    "import xlrd\n",
    "filepath = r'E:\\Programs\\Python\\PythonProgramming\\PythonProgramming\\2016OptionStrategyAnalysis\\PositionAndP&L.xlsx'\n",
    "book = xlrd.open_workbook(filepath) \n",
    "#xlrd用于获取每个sheet的sheetname  \n",
    "#count = len(book.sheets())\n",
    "\n",
    "PnlTable = DataFrame(columns=['Date','Res(Theor)'])\n",
    "\n",
    "filetxt = open(r'E:\\Programs\\Python\\PythonProgramming\\PythonProgramming\\2016OptionStrategyAnalysis\\PnL.txt','w')\n",
    "\n",
    "#对每个sheet进行操作\n",
    "for sheet in book.sheets():\n",
    "    #分别找出对应的行和列，然后取值\n",
    "    \n",
    "    #Res(Theor)所在行列\n",
    "    rowTarget = 0\n",
    "    colTarget = 0\n",
    "    \n",
    "    rowNum = sheet.nrows\n",
    "    colNum = sheet.ncols\n",
    "    \n",
    "    for rowTemp in range(rowNum-1):\n",
    "        if sheet.cell(rowTemp,1).value == 'CNY Total':\n",
    "            rowTarget = rowTemp\n",
    "        if sheet.cell(rowTemp,0).value == 'Underyling':\n",
    "            for colTemp in range(colNum-1):\n",
    "                if sheet.cell(rowTemp,colTemp).value =='Res(theor)' or \\\n",
    "                sheet.cell(rowTemp,colTemp).value =='Res(Theor)':\n",
    "                    colTarget = colTemp\n",
    "        if rowTarget == 0 or colTemp == 0:\n",
    "            PnL = 0\n",
    "        else:\n",
    "            PnL = sheet.cell(rowTarget,colTarget).value\n",
    "    #print sheet.name,rowTarget,colTarget,'\\n'\n",
    "    #print sheet.name,PnL,'\\n'\n",
    "    filetxt.write(str(sheet.name))\n",
    "    filetxt.write(' ')\n",
    "    filetxt.write(str(PnL))\n",
    "    filetxt.write('\\n\\n')\n",
    "filetxt.close()"
   ]
  }
 ],
 "metadata": {
  "anaconda-cloud": {},
  "kernelspec": {
   "display_name": "Python [Root]",
   "language": "python",
   "name": "Python [Root]"
  },
  "language_info": {
   "codemirror_mode": {
    "name": "ipython",
    "version": 2
   },
   "file_extension": ".py",
   "mimetype": "text/x-python",
   "name": "python",
   "nbconvert_exporter": "python",
   "pygments_lexer": "ipython2",
   "version": "2.7.12"
  }
 },
 "nbformat": 4,
 "nbformat_minor": 0
}
